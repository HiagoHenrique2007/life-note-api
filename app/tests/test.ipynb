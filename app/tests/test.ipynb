{
 "cells": [
  {
   "cell_type": "code",
   "execution_count": null,
   "id": "b397d393",
   "metadata": {},
   "outputs": [],
   "source": [
    "key = b'fIsH-_-BaLLCAT20comer70correr'\n"
   ]
  },
  {
   "cell_type": "code",
   "execution_count": null,
   "id": "95d850c3",
   "metadata": {},
   "outputs": [],
   "source": [
    "from datetime import datetime, timezone\n",
    "\n",
    "print(f'UTC NOW: {datetime.utcnow()}')\n",
    "print(f'UTC TIMEZONE: {datetime.now(timezone.utc)}')\n",
    "print(f'NOW: {datetime.now()}')"
   ]
  },
  {
   "cell_type": "code",
   "execution_count": null,
   "id": "d81cb23d",
   "metadata": {},
   "outputs": [],
   "source": [
    "def f(*args, **kwargs):\n",
    "  print(args, kwargs)\n",
    "\n",
    "dicionario = {\n",
    "  'value': 'KeyError'\n",
    "}\n",
    "\n",
    "f(1, 2, 3, dit=dicionario)"
   ]
  },
  {
   "cell_type": "code",
   "execution_count": 1,
   "id": "918a8042",
   "metadata": {},
   "outputs": [
    {
     "ename": "ModuleNotFoundError",
     "evalue": "No module named 'app'",
     "output_type": "error",
     "traceback": [
      "\u001b[31m---------------------------------------------------------------------------\u001b[39m",
      "\u001b[31mModuleNotFoundError\u001b[39m                       Traceback (most recent call last)",
      "\u001b[36mCell\u001b[39m\u001b[36m \u001b[39m\u001b[32mIn[1]\u001b[39m\u001b[32m, line 1\u001b[39m\n\u001b[32m----> \u001b[39m\u001b[32m1\u001b[39m \u001b[38;5;28;01mfrom\u001b[39;00m\u001b[38;5;250m \u001b[39m\u001b[34;01mapp\u001b[39;00m\u001b[34;01m.\u001b[39;00m\u001b[34;01mservices\u001b[39;00m\u001b[34;01m.\u001b[39;00m\u001b[34;01mmodel\u001b[39;00m\u001b[34;01m.\u001b[39;00m\u001b[34;01mdb_model\u001b[39;00m\u001b[38;5;250m \u001b[39m\u001b[38;5;28;01mimport\u001b[39;00m db_model\n\u001b[32m      3\u001b[39m email = \u001b[33m'\u001b[39m\u001b[33mhenrique@gmail.com\u001b[39m\u001b[33m'\u001b[39m\n\u001b[32m      4\u001b[39m db_model.createCustomer(name=\u001b[33m'\u001b[39m\u001b[33mhenrique\u001b[39m\u001b[33m'\u001b[39m, email=email, password=\u001b[33m'\u001b[39m\u001b[33mlam007\u001b[39m\u001b[33m'\u001b[39m)\n",
      "\u001b[31mModuleNotFoundError\u001b[39m: No module named 'app'"
     ]
    }
   ],
   "source": [
    "from app.services.model.db_model import db_model\n",
    "\n",
    "email = 'henrique@gmail.com'\n",
    "db_model.createCustomer(name='henrique', email=email, password='lam007')\n",
    "customer = db_model.getCustomerInfo(email=email)\n",
    "customer"
   ]
  },
  {
   "cell_type": "code",
   "execution_count": null,
   "id": "ef122fb6",
   "metadata": {},
   "outputs": [
    {
     "name": "stdout",
     "output_type": "stream",
     "text": [
      "hello world!\n"
     ]
    }
   ],
   "source": [
    "class Test:\n",
    "  def ola(self): print('hello world!')\n",
    "\n",
    "test = Test()\n",
    "test.ola()"
   ]
  }
 ],
 "metadata": {
  "kernelspec": {
   "display_name": "users-api-crud-CuOMOqlW-py3.13",
   "language": "python",
   "name": "python3"
  },
  "language_info": {
   "codemirror_mode": {
    "name": "ipython",
    "version": 3
   },
   "file_extension": ".py",
   "mimetype": "text/x-python",
   "name": "python",
   "nbconvert_exporter": "python",
   "pygments_lexer": "ipython3",
   "version": "3.13.2"
  }
 },
 "nbformat": 4,
 "nbformat_minor": 5
}
