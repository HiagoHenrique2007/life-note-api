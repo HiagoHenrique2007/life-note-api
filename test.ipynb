{
 "cells": [
  {
   "cell_type": "code",
   "execution_count": null,
   "id": "b397d393",
   "metadata": {},
   "outputs": [
    {
     "data": {
      "text/plain": [
       "'fIsH-_-BaLLCAT20comer70correr'"
      ]
     },
     "execution_count": 5,
     "metadata": {},
     "output_type": "execute_result"
    }
   ],
   "source": [
    "key = b'fIsH-_-BaLLCAT20comer70correr'\n"
   ]
  }
 ],
 "metadata": {
  "kernelspec": {
   "display_name": "users-api-crud-CuOMOqlW-py3.13",
   "language": "python",
   "name": "python3"
  },
  "language_info": {
   "codemirror_mode": {
    "name": "ipython",
    "version": 3
   },
   "file_extension": ".py",
   "mimetype": "text/x-python",
   "name": "python",
   "nbconvert_exporter": "python",
   "pygments_lexer": "ipython3",
   "version": "3.13.2"
  }
 },
 "nbformat": 4,
 "nbformat_minor": 5
}
