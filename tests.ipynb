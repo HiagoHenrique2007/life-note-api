{
 "cells": [
  {
   "cell_type": "code",
   "execution_count": 6,
   "id": "5ab1f69d",
   "metadata": {},
   "outputs": [],
   "source": [
    "%reset"
   ]
  },
  {
   "cell_type": "code",
   "execution_count": 7,
   "id": "e9d92cf2",
   "metadata": {},
   "outputs": [],
   "source": [
    "from app.services.model.db_model import db_model"
   ]
  },
  {
   "cell_type": "code",
   "execution_count": null,
   "id": "b734b350",
   "metadata": {},
   "outputs": [
    {
     "data": {
      "text/plain": [
       "<app.services.model.db_model.DbModel at 0x218fc9ae7b0>"
      ]
     },
     "execution_count": 8,
     "metadata": {},
     "output_type": "execute_result"
    }
   ],
   "source": []
  },
  {
   "cell_type": "code",
   "execution_count": null,
   "id": "9c1a1560",
   "metadata": {},
   "outputs": [
    {
     "data": {
      "text/plain": [
       "'12'"
      ]
     },
     "execution_count": 8,
     "metadata": {},
     "output_type": "execute_result"
    }
   ],
   "source": []
  }
 ],
 "metadata": {
  "kernelspec": {
   "display_name": "life-note-api-CuOMOqlW-py3.13",
   "language": "python",
   "name": "python3"
  },
  "language_info": {
   "codemirror_mode": {
    "name": "ipython",
    "version": 3
   },
   "file_extension": ".py",
   "mimetype": "text/x-python",
   "name": "python",
   "nbconvert_exporter": "python",
   "pygments_lexer": "ipython3",
   "version": "3.13.2"
  }
 },
 "nbformat": 4,
 "nbformat_minor": 5
}
