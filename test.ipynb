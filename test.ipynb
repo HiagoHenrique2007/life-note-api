{
 "cells": [
  {
   "cell_type": "code",
   "execution_count": null,
   "id": "b397d393",
   "metadata": {},
   "outputs": [],
   "source": [
    "key = b'fIsH-_-BaLLCAT20comer70correr'\n"
   ]
  },
  {
   "cell_type": "code",
   "execution_count": null,
   "id": "95d850c3",
   "metadata": {},
   "outputs": [],
   "source": [
    "from datetime import datetime, timezone\n",
    "\n",
    "print(f'UTC NOW: {datetime.utcnow()}')\n",
    "print(f'UTC TIMEZONE: {datetime.now(timezone.utc)}')\n",
    "print(f'NOW: {datetime.now()}')"
   ]
  },
  {
   "cell_type": "code",
   "execution_count": null,
   "id": "d81cb23d",
   "metadata": {},
   "outputs": [],
   "source": [
    "def f(*args, **kwargs):\n",
    "  print(args, kwargs)\n",
    "\n",
    "dicionario = {\n",
    "  'value': 'KeyError'\n",
    "}\n",
    "\n",
    "f(1, 2, 3, dit=dicionario)"
   ]
  },
  {
   "cell_type": "code",
   "execution_count": 2,
   "id": "918a8042",
   "metadata": {},
   "outputs": [
    {
     "ename": "AttributeError",
     "evalue": "'NoneType' object has no attribute 'scalars'",
     "output_type": "error",
     "traceback": [
      "\u001b[31m---------------------------------------------------------------------------\u001b[39m",
      "\u001b[31mAttributeError\u001b[39m                            Traceback (most recent call last)",
      "\u001b[36mCell\u001b[39m\u001b[36m \u001b[39m\u001b[32mIn[2]\u001b[39m\u001b[32m, line 5\u001b[39m\n\u001b[32m      3\u001b[39m email = \u001b[33m'\u001b[39m\u001b[33mhiago@gmail.com\u001b[39m\u001b[33m'\u001b[39m\n\u001b[32m      4\u001b[39m \u001b[38;5;66;03m# model.createCustomer(name='hiago', email=email, password='lam007')\u001b[39;00m\n\u001b[32m----> \u001b[39m\u001b[32m5\u001b[39m customer = \u001b[43mmodel\u001b[49m\u001b[43m.\u001b[49m\u001b[43mgetCustomerInfo\u001b[49m\u001b[43m(\u001b[49m\u001b[43memail\u001b[49m\u001b[43m=\u001b[49m\u001b[43memail\u001b[49m\u001b[43m)\u001b[49m\n\u001b[32m      6\u001b[39m customer\n",
      "\u001b[36mFile \u001b[39m\u001b[32mc:\\Users\\empty\\vscode\\learning\\docker\\app\\database\\model.py:35\u001b[39m, in \u001b[36mModel.getCustomerInfo\u001b[39m\u001b[34m(self, email, session)\u001b[39m\n\u001b[32m     33\u001b[39m \u001b[38;5;28;01mdef\u001b[39;00m\u001b[38;5;250m \u001b[39m\u001b[34mgetCustomerInfo\u001b[39m(\u001b[38;5;28mself\u001b[39m, email: \u001b[38;5;28mstr\u001b[39m, session: Session = \u001b[38;5;28;01mNone\u001b[39;00m) -> Customer:\n\u001b[32m     34\u001b[39m   stmt = select(Customer).where(Customer.email == email)\n\u001b[32m---> \u001b[39m\u001b[32m35\u001b[39m   customer = \u001b[43msession\u001b[49m\u001b[43m.\u001b[49m\u001b[43mscalars\u001b[49m(stmt).all()\n\u001b[32m     36\u001b[39m   \u001b[38;5;28;01mreturn\u001b[39;00m customer[\u001b[32m0\u001b[39m]\n",
      "\u001b[31mAttributeError\u001b[39m: 'NoneType' object has no attribute 'scalars'"
     ]
    }
   ],
   "source": [
    "from app.database.model import model\n",
    "\n",
    "email = 'hiago@gmail.com'\n",
    "# model.createCustomer(name='hiago', email=email, password='lam007')\n",
    "customer = model.getCustomerInfo(email=email)\n",
    "customer"
   ]
  }
 ],
 "metadata": {
  "kernelspec": {
   "display_name": "users-api-crud-CuOMOqlW-py3.13",
   "language": "python",
   "name": "python3"
  },
  "language_info": {
   "codemirror_mode": {
    "name": "ipython",
    "version": 3
   },
   "file_extension": ".py",
   "mimetype": "text/x-python",
   "name": "python",
   "nbconvert_exporter": "python",
   "pygments_lexer": "ipython3",
   "version": "3.13.2"
  }
 },
 "nbformat": 4,
 "nbformat_minor": 5
}
