{
 "cells": [
  {
   "cell_type": "code",
   "execution_count": null,
   "id": "b397d393",
   "metadata": {},
   "outputs": [],
   "source": [
    "key = b'fIsH-_-BaLLCAT20comer70correr'\n"
   ]
  },
  {
   "cell_type": "code",
   "execution_count": null,
   "id": "95d850c3",
   "metadata": {},
   "outputs": [],
   "source": [
    "from datetime import datetime, timezone\n",
    "\n",
    "print(f'UTC NOW: {datetime.utcnow()}')\n",
    "print(f'UTC TIMEZONE: {datetime.now(timezone.utc)}')\n",
    "print(f'NOW: {datetime.now()}')"
   ]
  },
  {
   "cell_type": "code",
   "execution_count": null,
   "id": "d81cb23d",
   "metadata": {},
   "outputs": [],
   "source": [
    "def f(*args, **kwargs):\n",
    "  print(args, kwargs)\n",
    "\n",
    "dicionario = {\n",
    "  'value': 'KeyError'\n",
    "}\n",
    "\n",
    "f(1, 2, 3, dit=dicionario)"
   ]
  },
  {
   "cell_type": "code",
   "execution_count": 3,
   "id": "918a8042",
   "metadata": {},
   "outputs": [
    {
     "name": "stdout",
     "output_type": "stream",
     "text": [
      "ARGS: ()\n",
      "\n",
      "KWARGS: {'name': 'henrique', 'email': 'henrique@gmail.com', 'password': 'lam007'}\n",
      "\n",
      "SESSION: <sqlalchemy.orm.session.Session object at 0x0000024C68355E50>\n",
      "EXECUTANDO A FUNC\n",
      "SESSION DENTRO DA FUNC: <sqlalchemy.orm.session.Session object at 0x0000024C68355E50>\n",
      "ARGS: ()\n",
      "\n",
      "KWARGS: {'email': 'henrique@gmail.com'}\n",
      "\n",
      "SESSION: <sqlalchemy.orm.session.Session object at 0x0000024C6811B820>\n",
      "EXECUTANDO A FUNC\n"
     ]
    },
    {
     "data": {
      "text/plain": [
       "Customer:  id: 2  -  name: henrique  -  email: henrique@gmail.com"
      ]
     },
     "execution_count": 3,
     "metadata": {},
     "output_type": "execute_result"
    }
   ],
   "source": [
    "from app.database.model import model\n",
    "\n",
    "email = 'henrique@gmail.com'\n",
    "model.createCustomer(name='henrique', email=email, password='lam007')\n",
    "customer = model.getCustomerInfo(email=email)\n",
    "customer"
   ]
  }
 ],
 "metadata": {
  "kernelspec": {
   "display_name": "users-api-crud-CuOMOqlW-py3.13",
   "language": "python",
   "name": "python3"
  },
  "language_info": {
   "codemirror_mode": {
    "name": "ipython",
    "version": 3
   },
   "file_extension": ".py",
   "mimetype": "text/x-python",
   "name": "python",
   "nbconvert_exporter": "python",
   "pygments_lexer": "ipython3",
   "version": "3.13.2"
  }
 },
 "nbformat": 4,
 "nbformat_minor": 5
}
